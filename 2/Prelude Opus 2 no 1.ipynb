{
 "cells": [
  {
   "cell_type": "code",
   "execution_count": 1,
   "id": "621c992c-8283-4a72-af79-231b9c420de7",
   "metadata": {},
   "outputs": [
    {
     "name": "stdout",
     "output_type": "stream",
     "text": [
      "The Zen of Python, by Tim Peters\n",
      "\n",
      "Beautiful is better than ugly.\n",
      "Explicit is better than implicit.\n",
      "Simple is better than complex.\n",
      "Complex is better than complicated.\n",
      "Flat is better than nested.\n",
      "Sparse is better than dense.\n",
      "Readability counts.\n",
      "Special cases aren't special enough to break the rules.\n",
      "Although practicality beats purity.\n",
      "Errors should never pass silently.\n",
      "Unless explicitly silenced.\n",
      "In the face of ambiguity, refuse the temptation to guess.\n",
      "There should be one-- and preferably only one --obvious way to do it.\n",
      "Although that way may not be obvious at first unless you're Dutch.\n",
      "Now is better than never.\n",
      "Although never is often better than *right* now.\n",
      "If the implementation is hard to explain, it's a bad idea.\n",
      "If the implementation is easy to explain, it may be a good idea.\n",
      "Namespaces are one honking great idea -- let's do more of those!\n"
     ]
    }
   ],
   "source": [
    "import this"
   ]
  },
  {
   "cell_type": "code",
   "execution_count": 13,
   "id": "e550b336-51cc-44f7-8703-d0673f434c38",
   "metadata": {},
   "outputs": [
    {
     "name": "stdout",
     "output_type": "stream",
     "text": [
      "0\n",
      "1\n",
      "2\n",
      "3\n",
      "4\n",
      "0\n",
      "1\n",
      "2\n",
      "3\n",
      "4\n",
      "0\n",
      "1\n",
      "2\n",
      "3\n",
      "4\n",
      "0\n",
      "1\n",
      "2\n",
      "3\n",
      "4\n",
      "0\n",
      "1\n",
      "2\n",
      "3\n",
      "4\n",
      "heh\n"
     ]
    }
   ],
   "source": [
    "for i in [1, 2, 3, 4, 5]:\n",
    "    #print(i)\n",
    "    for j in range(5):\n",
    "        a = 4\n",
    "        #print(j)\n",
    "        #print(j+i)\n",
    "    #print(i)\n",
    "print(\"heh\")"
   ]
  },
  {
   "cell_type": "code",
   "execution_count": 15,
   "id": "58aa0bb3-46d1-45b4-8862-2c6fea765711",
   "metadata": {},
   "outputs": [
    {
     "name": "stdout",
     "output_type": "stream",
     "text": [
      "21\n"
     ]
    }
   ],
   "source": [
    "long = (1+2+3\n",
    "        +4+5+6)\n",
    "print(long)"
   ]
  },
  {
   "cell_type": "code",
   "execution_count": 17,
   "id": "0e15dc69-eb89-4877-a2fa-3edd1e3550ed",
   "metadata": {},
   "outputs": [
    {
     "name": "stdout",
     "output_type": "stream",
     "text": [
      "([1, 2, 3], [4, 5, 6], [7, 8, 9])\n",
      "\n",
      "([1, 2, 3], [4, 5, 6], [7, 8, 9])\n"
     ]
    }
   ],
   "source": [
    "list_of_lists = ([1,2,3],[4,5,6],[7,8,9])\n",
    "easier_to_read_list_of_lists = ([1,2,3],\n",
    "                                [4,5,6],\n",
    "                                [7,8,9])\n",
    "print(list_of_lists)\n",
    "print()\n",
    "print(easier_to_read_list_of_lists)"
   ]
  },
  {
   "cell_type": "code",
   "execution_count": 24,
   "id": "cfee9d60-0a9c-401c-82fd-df6d6e2ec87e",
   "metadata": {},
   "outputs": [
    {
     "name": "stdout",
     "output_type": "stream",
     "text": [
      "5\n"
     ]
    }
   ],
   "source": [
    "two_plus_three = 2 + \\\n",
    "                3\n",
    "print(two_plus_three)"
   ]
  },
  {
   "cell_type": "markdown",
   "id": "11143f4e-1a9b-4279-99ce-c1eb172ba62c",
   "metadata": {},
   "source": [
    "#### Странно, но именно эта штука работает странно"
   ]
  },
  {
   "cell_type": "code",
   "execution_count": 41,
   "id": "f7e41e44-4ba2-436a-87cc-d13f07707adc",
   "metadata": {},
   "outputs": [
    {
     "ename": "IndentationError",
     "evalue": "expected an indented block (<ipython-input-41-48eacddbc0f5>, line 2)",
     "output_type": "error",
     "traceback": [
      "\u001b[1;36m  File \u001b[1;32m\"<ipython-input-41-48eacddbc0f5>\"\u001b[1;36m, line \u001b[1;32m2\u001b[0m\n\u001b[1;33m    try:\u001b[0m\n\u001b[1;37m    ^\u001b[0m\n\u001b[1;31mIndentationError\u001b[0m\u001b[1;31m:\u001b[0m expected an indented block\n"
     ]
    }
   ],
   "source": [
    "try:\n",
    "    for i in [1,2,3,4,5]:   \n",
    "    print(i)\n",
    "except IndentationError:\n",
    "    print(\"Убери пробел между циклом и выводом\")"
   ]
  },
  {
   "cell_type": "code",
   "execution_count": 59,
   "id": "9a709a6b-4bbb-4f06-815b-c5a47375eea7",
   "metadata": {},
   "outputs": [
    {
     "name": "stdout",
     "output_type": "stream",
     "text": [
      "re.compile('[0-9]+', re.IGNORECASE)\n"
     ]
    }
   ],
   "source": [
    "import re\n",
    "my_regex = re.compile(\"[0-9]+\",re.I)\n",
    "print(my_regex)"
   ]
  },
  {
   "cell_type": "code",
   "execution_count": 60,
   "id": "4dbde7a4-8755-4eb2-9937-b65b500b055e",
   "metadata": {},
   "outputs": [],
   "source": [
    "import matplotlib.pyplot as plt\n",
    "from collections import defaultdict, Counter\n",
    "lookup = defaultdict(int)\n",
    "m_counte = Counter()"
   ]
  },
  {
   "cell_type": "code",
   "execution_count": 15,
   "id": "f62182d0-b11d-47dc-b006-eaf94d903dd3",
   "metadata": {},
   "outputs": [
    {
     "name": "stdout",
     "output_type": "stream",
     "text": [
      "2\n"
     ]
    }
   ],
   "source": [
    "def double(x):\n",
    "    return x*2\n",
    "\n",
    "def apply_to_one(f):\n",
    "    return f(1)\n",
    "\n",
    "my_foo = lambda x: double(x)\n",
    "x = apply_to_one(my_foo)\n",
    "print(x)"
   ]
  },
  {
   "cell_type": "code",
   "execution_count": 18,
   "id": "f94c46a0-624e-4160-96a2-b1c6a5595175",
   "metadata": {},
   "outputs": [
    {
     "name": "stdout",
     "output_type": "stream",
     "text": [
      "Привет\n",
      "Default\n"
     ]
    }
   ],
   "source": [
    "def my_print(message = \"Default\"):\n",
    "    print(message)\n",
    "    \n",
    "my_print(\"Привет\")\n",
    "my_print()"
   ]
  },
  {
   "cell_type": "code",
   "execution_count": 19,
   "id": "d04601b2-520f-4878-a8d7-75e5210d055b",
   "metadata": {},
   "outputs": [
    {
     "name": "stdout",
     "output_type": "stream",
     "text": [
      "1\n",
      "2\n"
     ]
    }
   ],
   "source": [
    "tab_string = \"\\t\"\n",
    "No_tab_string = r\"\\t\"\n",
    "\n",
    "print(len(tab_string))\n",
    "print(len(No_tab_string))"
   ]
  },
  {
   "cell_type": "code",
   "execution_count": 20,
   "id": "c7c91f66-0f7e-4e61-811c-82ac106ffcf4",
   "metadata": {},
   "outputs": [
    {
     "name": "stdout",
     "output_type": "stream",
     "text": [
      "Но-но\n"
     ]
    }
   ],
   "source": [
    "try:\n",
    "    print(0/0)\n",
    "except ZeroDivisionError:\n",
    "    print(\"Но-но\")"
   ]
  },
  {
   "cell_type": "code",
   "execution_count": 22,
   "id": "c8d0d36e-e518-454a-a1d4-c35bf3a23913",
   "metadata": {},
   "outputs": [
    {
     "name": "stdout",
     "output_type": "stream",
     "text": [
      "[[1, 2, 3], ['Строка', 0.1, True], []]\n",
      "3\n"
     ]
    }
   ],
   "source": [
    "integer_list = [1,2,3]\n",
    "hetogeneus_list = [\"Строка\", 0.1, True]\n",
    "list_of_lists = [integer_list, hetogeneus_list, []]\n",
    "print(list_of_lists)\n",
    "print(len(list_of_lists))"
   ]
  },
  {
   "cell_type": "code",
   "execution_count": 23,
   "id": "62fbd03f-76ac-40f1-b3d7-1051eaafc66a",
   "metadata": {},
   "outputs": [
    {
     "name": "stdout",
     "output_type": "stream",
     "text": [
      "[0, 1, 2, 3, 4, 5, 6, 7, 8, 9]\n"
     ]
    }
   ],
   "source": [
    "x = list(range(10))\n",
    "print(x)"
   ]
  },
  {
   "cell_type": "code",
   "execution_count": 25,
   "id": "4c88f8e3-3c0a-4aa9-8c91-d18583e68e00",
   "metadata": {},
   "outputs": [
    {
     "data": {
      "text/plain": [
       "False"
      ]
     },
     "execution_count": 25,
     "metadata": {},
     "output_type": "execute_result"
    }
   ],
   "source": [
    "0 in [1,2,3]"
   ]
  },
  {
   "cell_type": "code",
   "execution_count": 34,
   "id": "db7880f6-867b-4511-be57-fcf8c6344ed2",
   "metadata": {},
   "outputs": [
    {
     "name": "stdout",
     "output_type": "stream",
     "text": [
      "[1, 2, 3]\n",
      "[1, 2, 3, 4, 5, 6]\n",
      "[1, 2, 3, 4, 5, 6]\n",
      "[1, 2, 3, 4, 5, 6, 0]\n",
      "7\n",
      "5\n"
     ]
    }
   ],
   "source": [
    "x = [1,2,3]\n",
    "print(x)\n",
    "y = x + [4,5,6]\n",
    "print(y) #x не поменялось\n",
    "x.extend([4,5,6])\n",
    "print(x) #x поменялось\n",
    "x.append(0)\n",
    "print(x)\n",
    "y = len(x)\n",
    "print(y)\n",
    "z = x[-3]\n",
    "print(z)"
   ]
  },
  {
   "cell_type": "code",
   "execution_count": 38,
   "id": "86881be3-402c-4ef7-bc77-372c5f17aa16",
   "metadata": {},
   "outputs": [
    {
     "name": "stdout",
     "output_type": "stream",
     "text": [
      "1\n",
      "2\n"
     ]
    }
   ],
   "source": [
    "x,y=[1,2]\n",
    "print(x)\n",
    "print(y)"
   ]
  },
  {
   "cell_type": "code",
   "execution_count": 39,
   "id": "0cb1ffcd-b862-421c-9b9c-11431bb97df4",
   "metadata": {},
   "outputs": [
    {
     "name": "stdout",
     "output_type": "stream",
     "text": [
      "4\n"
     ]
    }
   ],
   "source": [
    "_,y = [5,4]\n",
    "print(y)"
   ]
  },
  {
   "cell_type": "code",
   "execution_count": 43,
   "id": "1c1648bf-4db3-4d0e-89e7-c8b2cba80095",
   "metadata": {},
   "outputs": [
    {
     "name": "stdout",
     "output_type": "stream",
     "text": [
      "но-но\n"
     ]
    }
   ],
   "source": [
    "my_list =[1,2]\n",
    "my_tuple = (1,2)\n",
    "other_tuple = 3,4\n",
    "my_list[1] = 3\n",
    "\n",
    "try:\n",
    "    my_tuple[1] = 3\n",
    "except TypeError:\n",
    "    print(\"но-но\")"
   ]
  },
  {
   "cell_type": "code",
   "execution_count": 45,
   "id": "654fd9eb-7a23-4720-b2f7-7f24552421bd",
   "metadata": {},
   "outputs": [
    {
     "name": "stdout",
     "output_type": "stream",
     "text": [
      "5\n",
      "6\n"
     ]
    }
   ],
   "source": [
    "def sum_and_product(x,y):\n",
    "    return (x + y),(x * y)\n",
    "\n",
    "sp = sum_and_product(2,3)\n",
    "s,p = sp\n",
    "print(s)\n",
    "print(p)"
   ]
  },
  {
   "cell_type": "code",
   "execution_count": 48,
   "id": "71bd9f9a-7863-4ea0-b961-0911e64b74a4",
   "metadata": {},
   "outputs": [
    {
     "name": "stdout",
     "output_type": "stream",
     "text": [
      "2 1\n"
     ]
    }
   ],
   "source": [
    "x,y = 1,2\n",
    "x,y = y,x\n",
    "print(x, y)"
   ]
  },
  {
   "cell_type": "code",
   "execution_count": 66,
   "id": "b8a74fa2-2231-4149-9340-fcb3e89ca33d",
   "metadata": {},
   "outputs": [
    {
     "name": "stdout",
     "output_type": "stream",
     "text": [
      "80\n",
      "Нет такой\n"
     ]
    },
    {
     "data": {
      "text/plain": [
       "dict"
      ]
     },
     "execution_count": 66,
     "metadata": {},
     "output_type": "execute_result"
    }
   ],
   "source": [
    "empty_dict = {}\n",
    "empty_dict2 = dict()\n",
    "grades = {\"Joel\": 80, \"Tim\" : 95} #Имя моё было добавленно в книгу без моего ведома :Р\n",
    "\n",
    "print(grades[\"Joel\"])\n",
    "\n",
    "try:\n",
    "    print(grades[\"Kate\"])\n",
    "except KeyError:\n",
    "    print(\"Нет такой\")\n",
    "    \n",
    "type(grades)\n",
    "\n"
   ]
  },
  {
   "cell_type": "code",
   "execution_count": 69,
   "id": "446acd2e-476e-4e2a-8fc2-1363bc6cb162",
   "metadata": {},
   "outputs": [
    {
     "data": {
      "text/plain": [
       "3"
      ]
     },
     "execution_count": 69,
     "metadata": {},
     "output_type": "execute_result"
    }
   ],
   "source": [
    "grades[\"Tim\"] = 99\n",
    "grades[\"Kate\"] = 100\n",
    "\n",
    "len(grades)"
   ]
  },
  {
   "cell_type": "code",
   "execution_count": 95,
   "id": "00883010-f3a3-4399-88ba-c9e31c033fe0",
   "metadata": {},
   "outputs": [
    {
     "name": "stdout",
     "output_type": "stream",
     "text": [
      "Ник пользователя: TheRestlessSloth\n",
      "Текст твита: Дата Саенц - очуметь\n",
      "Колличество ретвитов: 100\n",
      "#data\n",
      "#science\n",
      "#datascience\n",
      "#awesome\n",
      "#yolo\n"
     ]
    }
   ],
   "source": [
    "tweet = {\n",
    "    \"user\" : \"TheRestlessSloth\",\n",
    "    \"text\" : \"Дата Саенц - очуметь\",\n",
    "    \"retweet_count\" : 100,\n",
    "    \"hashtags\" : [\"#data\",\"#science\",\"#datascience\",\"#awesome\",\"#yolo\"]\n",
    "}\n",
    "\n",
    "print(\"Ник пользователя:\",tweet[\"user\"])\n",
    "print(\"Текст твита:\",tweet[\"text\"])\n",
    "print(\"Колличество ретвитов:\",tweet[\"retweet_count\"])\n",
    "for i in range(len(tweet[\"hashtags\"])):\n",
    "    print(tweet[\"hashtags\"][i])"
   ]
  },
  {
   "cell_type": "code",
   "execution_count": 99,
   "id": "d4a9b676-6d34-44dc-be20-6b02e3e20a35",
   "metadata": {},
   "outputs": [
    {
     "name": "stdout",
     "output_type": "stream",
     "text": [
      "медленный True\n",
      "быстрый True\n"
     ]
    }
   ],
   "source": [
    "tweet_keys = tweet.keys()\n",
    "tweet_values = tweet.values()\n",
    "tweet_items = tweet.items()\n",
    "\n",
    "a = \"user\" in tweet_keys\n",
    "b = \"user\" in tweet\n",
    "\n",
    "print(\"медленный\",a)\n",
    "print(\"быстрый\",b)"
   ]
  },
  {
   "cell_type": "code",
   "execution_count": null,
   "id": "d43baa58-4efb-4984-9cd1-c504b2869a87",
   "metadata": {},
   "outputs": [],
   "source": []
  }
 ],
 "metadata": {
  "kernelspec": {
   "display_name": "Python 3",
   "language": "python",
   "name": "python3"
  },
  "language_info": {
   "codemirror_mode": {
    "name": "ipython",
    "version": 3
   },
   "file_extension": ".py",
   "mimetype": "text/x-python",
   "name": "python",
   "nbconvert_exporter": "python",
   "pygments_lexer": "ipython3",
   "version": "3.8.8"
  }
 },
 "nbformat": 4,
 "nbformat_minor": 5
}
