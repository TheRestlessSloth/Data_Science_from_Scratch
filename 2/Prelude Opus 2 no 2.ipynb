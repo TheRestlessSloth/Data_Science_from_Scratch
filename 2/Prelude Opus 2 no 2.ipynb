{
 "cells": [
  {
   "cell_type": "markdown",
   "id": "12d3b618-6386-4972-bba5-dca70a0c2d1d",
   "metadata": {},
   "source": [
    "# Прелюдия - короткое произведение с некой долей импровизации, то, что предвещает то, что будет дальше\n",
    ">Опус - сборник <br>\n",
    ">Номер - номер (Как не странно))))\n",
    "## Здесь мы рассмотрим 48-62 страницы, это остаток предыдущей \"прелюдии\")"
   ]
  },
  {
   "cell_type": "code",
   "execution_count": null,
   "id": "c95fb47f-fece-4c76-a4c3-1ca6effdfe17",
   "metadata": {},
   "outputs": [],
   "source": []
  }
 ],
 "metadata": {
  "kernelspec": {
   "display_name": "Python 3",
   "language": "python",
   "name": "python3"
  },
  "language_info": {
   "codemirror_mode": {
    "name": "ipython",
    "version": 3
   },
   "file_extension": ".py",
   "mimetype": "text/x-python",
   "name": "python",
   "nbconvert_exporter": "python",
   "pygments_lexer": "ipython3",
   "version": "3.8.8"
  }
 },
 "nbformat": 4,
 "nbformat_minor": 5
}
